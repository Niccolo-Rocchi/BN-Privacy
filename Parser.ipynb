{
 "cells": [
  {
   "cell_type": "code",
   "execution_count": 87,
   "id": "c62f4e31",
   "metadata": {},
   "outputs": [],
   "source": [
    "import re\n",
    "from collections import defaultdict\n",
    "from scipy.stats import norm\n",
    "import itertools\n",
    "import numpy as np\n",
    "import io\n",
    "from contextlib import redirect_stdout\n",
    "from more_itertools import random_product\n",
    "\n",
    "import pyagrum as gum\n",
    "import pyagrum.lib.notebook as gnb"
   ]
  },
  {
   "cell_type": "code",
   "execution_count": 88,
   "id": "e3f06e1f",
   "metadata": {},
   "outputs": [],
   "source": [
    "# Create CN\n",
    "bn=gum.fastBN(\"A[2]->B[2]<-C[3]\")\n",
    "bn_min=gum.BayesNet(bn)\n",
    "bn_max=gum.BayesNet(bn)\n",
    "for n in bn.nodes():\n",
    "  x=0.4*min(bn.cpt(n).min(),1-bn.cpt(n).max())\n",
    "  bn_min.cpt(n).translate(-x)\n",
    "  bn_max.cpt(n).translate(x)\n",
    "\n",
    "cn=gum.CredalNet(bn_min,bn_max)\n",
    "cn.intervalToCredal()"
   ]
  },
  {
   "cell_type": "code",
   "execution_count": 89,
   "id": "94094a5c",
   "metadata": {},
   "outputs": [],
   "source": [
    "#TODO: improve code\n",
    "def parse_credal_net(cn_str: str):\n",
    "    \"\"\"\n",
    "    Parsa l'output testuale di una credal net da PyAgrum.\n",
    "    Restituisce un dizionario del tipo:\n",
    "        {\n",
    "            'A': {'<>': [ [p1], [p2], ... ]},\n",
    "            'B': {'<A:0|C:0>': [...], ...},\n",
    "            ...\n",
    "        }\n",
    "    \"\"\"\n",
    "    credal_dict = defaultdict(lambda: defaultdict(list))\n",
    "    current_var = None\n",
    "\n",
    "    lines = cn_str.strip().split('\\n')\n",
    "\n",
    "    for line in lines:\n",
    "        line = line.strip()\n",
    "\n",
    "        # Identificazione della variabile\n",
    "        var_match = re.match(r'^([A-Za-z0-9_]+):Range\\(\\[.*\\]\\)', line)\n",
    "        if var_match:\n",
    "            current_var = var_match.group(1)\n",
    "            continue\n",
    "\n",
    "        if current_var is None or not line:\n",
    "            continue\n",
    "\n",
    "        # Identificazione di una CPT con intestazione <condizioni>\n",
    "        cpt_match = re.match(r'^<([^>]*)>\\s*:\\s*(.*)', line)\n",
    "        if cpt_match:\n",
    "            condition = f\"<{cpt_match.group(1).strip()}>\"\n",
    "            raw_cpt = cpt_match.group(2)\n",
    "\n",
    "            # Estrarre tutte le liste interne: [[x,x,x], [x,x,x], ...]\n",
    "            vectors = re.findall(r'\\[\\s*([^\\[\\]]+?)\\s*\\]', raw_cpt)\n",
    "            for vec in vectors:\n",
    "                prob_list = [float(x.strip()) for x in vec.split(',')]\n",
    "                credal_dict[current_var][condition].append(prob_list)\n",
    "\n",
    "    return credal_dict\n"
   ]
  },
  {
   "cell_type": "code",
   "execution_count": 90,
   "id": "4a040158",
   "metadata": {},
   "outputs": [],
   "source": [
    "def get_simplex(cn, n: int = None) -> list:\n",
    "\n",
    "    # Store the CN in form of string\n",
    "    buffer = io.StringIO()\n",
    "    with redirect_stdout(buffer):\n",
    "        print(cn)\n",
    "\n",
    "    cn_text = buffer.getvalue()\n",
    "\n",
    "    # Parse CN\n",
    "    parsed = parse_credal_net(cn_text)\n",
    "\n",
    "    # Get baseline DAG and init simplex\n",
    "    dag = gum.BayesNet(cn.current_bn())\n",
    "    bns = []\n",
    "\n",
    "    # Compute slots and store variables indexes\n",
    "    slots = []\n",
    "    for var in parsed:\n",
    "        for cond, vectors in parsed[var].items():\n",
    "            slots.append((var, cond, vectors))\n",
    "    var_idx = {var:[idx for idx, elem in enumerate(slots) if elem[0] == var] for var in bn.names()}\n",
    "\n",
    "    # If 'n' is provided...\n",
    "    if bool(n):\n",
    "        # Get 'n' random combinations of CPTs\n",
    "        combinations = [random_product(*[vecs for _, _, vecs in slots]) for _ in range(n)]\n",
    "        n_combs = len(combinations)\n",
    "        assert(n_combs == n); print(f\"Generating {n_combs} random BNs...\")\n",
    "    else:\n",
    "        # Get all combinations of CPTs\n",
    "        combinations = list(itertools.product(*[vecs for _, _, vecs in slots]))\n",
    "        n_combs = len(combinations); print(f\"Generating {n_combs} BNs...\")\n",
    "\n",
    "    # For each combination...\n",
    "    for combo in combinations:\n",
    "\n",
    "        # Init BN and ...\n",
    "        bn_tmp = gum.BayesNet(dag)\n",
    "\n",
    "        # Fill its CPTs\n",
    "        for var in bn.names():\n",
    "            array = np.array([(combo[idx]) for idx in var_idx.get(var)]).flatten()\n",
    "            bn_tmp.cpt(var).fillWith(array)\n",
    "\n",
    "        bns.append(bn_tmp)\n",
    "    \n",
    "    # Check\n",
    "    assert(n_combs == len(bns))\n",
    "\n",
    "    return bns\n"
   ]
  },
  {
   "cell_type": "code",
   "execution_count": 91,
   "id": "781920cb",
   "metadata": {},
   "outputs": [],
   "source": [
    "# TODO: Check code\n",
    "def are_all_bn_different(bn_list):\n",
    "\n",
    "    def serialize_bn(bn):\n",
    "        cpt_data = []\n",
    "        for var in bn.names():\n",
    "            cpt = bn.cpt(var)\n",
    "            flat = [f\"{v:.8f}\" for v in cpt.toarray().flatten()]\n",
    "            cpt_data.append(f\"{var}:\" + \",\".join(flat))\n",
    "        return \"|\".join(cpt_data)\n",
    "\n",
    "    signatures = set()\n",
    "    for bn in bn_list:\n",
    "        sig = serialize_bn(bn)\n",
    "        signatures.add(sig)\n",
    "\n",
    "    if len(signatures) == len(bn_list):\n",
    "        print(f\"✅ All {len(signatures)} BNs are different.\")\n",
    "        return\n",
    "    else:\n",
    "        unique_sigs = set()\n",
    "        unique_bns = []\n",
    "\n",
    "        for bn in bn_list:\n",
    "            sig = serialize_bn(bn)\n",
    "            if sig not in unique_sigs:\n",
    "                unique_sigs.add(sig)\n",
    "                unique_bns.append(bn)\n",
    "        print(f\"⚠️ Obtained {len(unique_bns)}/{len(bn_list)} different BNs.\")\n",
    "        return"
   ]
  },
  {
   "cell_type": "code",
   "execution_count": 92,
   "id": "3911a452",
   "metadata": {},
   "outputs": [
    {
     "name": "stdout",
     "output_type": "stream",
     "text": [
      "Generating 768 BNs...\n",
      "✅ All 768 BNs are different.\n"
     ]
    }
   ],
   "source": [
    "# Get full simplex\n",
    "bns = get_simplex(cn)\n",
    "\n",
    "# Ensure they are all different\n",
    "are_all_bn_different(bns)"
   ]
  },
  {
   "cell_type": "code",
   "execution_count": 93,
   "id": "033f09e7",
   "metadata": {},
   "outputs": [
    {
     "name": "stdout",
     "output_type": "stream",
     "text": [
      "Generating 50 random BNs...\n",
      "⚠️ Obtained 47/50 different BNs.\n"
     ]
    }
   ],
   "source": [
    "# Get random subset of simplex\n",
    "bns = get_simplex(cn, 50)\n",
    "\n",
    "# Ensure they are all different\n",
    "are_all_bn_different(bns)"
   ]
  }
 ],
 "metadata": {
  "kernelspec": {
   "display_name": "venv",
   "language": "python",
   "name": "python3"
  },
  "language_info": {
   "codemirror_mode": {
    "name": "ipython",
    "version": 3
   },
   "file_extension": ".py",
   "mimetype": "text/x-python",
   "name": "python",
   "nbconvert_exporter": "python",
   "pygments_lexer": "ipython3",
   "version": "3.11.2"
  }
 },
 "nbformat": 4,
 "nbformat_minor": 5
}
