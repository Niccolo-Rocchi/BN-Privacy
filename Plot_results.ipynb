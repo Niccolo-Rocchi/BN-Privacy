{
 "cells": [
  {
   "cell_type": "code",
   "execution_count": 15,
   "id": "b53ad4f3",
   "metadata": {},
   "outputs": [],
   "source": [
    "import pandas as pd\n",
    "import matplotlib.pyplot as plt\n",
    "import os\n",
    "from sklearn.metrics import auc\n",
    "import numpy as np"
   ]
  },
  {
   "cell_type": "code",
   "execution_count": 16,
   "id": "38577237",
   "metadata": {},
   "outputs": [],
   "source": [
    "# Define plot function: error vs power (semilogx)\n",
    "def plot_results(r: pd.DataFrame):\n",
    "    fig, ax = plt.subplots(1,1, figsize=(6, 3))\n",
    "    kwargs = {\"lw\":2, \"ms\":4, \"alpha\": 1}\n",
    "\n",
    "    # Theoretical bound\n",
    "    ax.semilogx(r[\"error\"], r[\"power_bound\"], \"r-^\", label = 'Theoretical', **kwargs)\n",
    "\n",
    "    # BN\n",
    "    ax.semilogx(r[\"error\"], r[\"power_BN\"], \"-o\", label = 'BN', **kwargs)\n",
    "\n",
    "    # CN (avg, min, max)\n",
    "    ax.semilogx(r[\"error\"], r[\"CN_avg\"], \"-s\", label = f'CN Avg', **kwargs)\n",
    "    ax.fill_between(r[\"error\"], r[\"CN_min\"], r[\"CN_max\"], color=\"b\", alpha=0.5)\n",
    "\n",
    "    # Plot info\n",
    "    ax.set(title='Semilogx')\n",
    "    ax.legend()"
   ]
  },
  {
   "cell_type": "code",
   "execution_count": 17,
   "id": "28499dc9",
   "metadata": {},
   "outputs": [
    {
     "data": {
      "image/png": "[encoded data removed]",
      "text/plain": [
       "<Figure size 600x300 with 1 Axes>"
      ]
     },
     "metadata": {},
     "output_type": "display_data"
    }
   ],
   "source": [
    "# Import all results\n",
    "path = \"./results/idm\"\n",
    "results = os.listdir(path)\n",
    "\n",
    "# Choose which one to plot\n",
    "r_path = f\"{path}/exp_1-compl15.csv\"\n",
    "results = pd.read_csv(r_path)\n",
    "\n",
    "# Plot results\n",
    "plot_results(results)"
   ]
  },
  {
   "cell_type": "code",
   "execution_count": 18,
   "id": "dac96210",
   "metadata": {},
   "outputs": [
    {
     "data": {
      "text/html": [
       "<div>\n",
       "<style scoped>\n",
       "    .dataframe tbody tr th:only-of-type {\n",
       "        vertical-align: middle;\n",
       "    }\n",
       "\n",
       "    .dataframe tbody tr th {\n",
       "        vertical-align: top;\n",
       "    }\n",
       "\n",
       "    .dataframe thead th {\n",
       "        text-align: right;\n",
       "    }\n",
       "</style>\n",
       "<table border=\"1\" class=\"dataframe\">\n",
       "  <thead>\n",
       "    <tr style=\"text-align: right;\">\n",
       "      <th></th>\n",
       "      <th>error</th>\n",
       "      <th>power_bound</th>\n",
       "      <th>power_BN</th>\n",
       "      <th>CN_avg</th>\n",
       "      <th>CN_max</th>\n",
       "      <th>CN_min</th>\n",
       "    </tr>\n",
       "  </thead>\n",
       "  <tbody>\n",
       "    <tr>\n",
       "      <th>0</th>\n",
       "      <td>0.00</td>\n",
       "      <td>0.000000</td>\n",
       "      <td>0.0000</td>\n",
       "      <td>0.0000</td>\n",
       "      <td>0.0000</td>\n",
       "      <td>0.0000</td>\n",
       "    </tr>\n",
       "    <tr>\n",
       "      <th>1</th>\n",
       "      <td>0.05</td>\n",
       "      <td>0.063957</td>\n",
       "      <td>0.0345</td>\n",
       "      <td>0.0050</td>\n",
       "      <td>0.0050</td>\n",
       "      <td>0.0050</td>\n",
       "    </tr>\n",
       "    <tr>\n",
       "      <th>2</th>\n",
       "      <td>0.10</td>\n",
       "      <td>0.123212</td>\n",
       "      <td>0.1055</td>\n",
       "      <td>0.0915</td>\n",
       "      <td>0.0915</td>\n",
       "      <td>0.0915</td>\n",
       "    </tr>\n",
       "    <tr>\n",
       "      <th>3</th>\n",
       "      <td>0.15</td>\n",
       "      <td>0.180369</td>\n",
       "      <td>0.1470</td>\n",
       "      <td>0.1510</td>\n",
       "      <td>0.1510</td>\n",
       "      <td>0.1510</td>\n",
       "    </tr>\n",
       "    <tr>\n",
       "      <th>4</th>\n",
       "      <td>0.20</td>\n",
       "      <td>0.236025</td>\n",
       "      <td>0.2360</td>\n",
       "      <td>0.1815</td>\n",
       "      <td>0.1815</td>\n",
       "      <td>0.1815</td>\n",
       "    </tr>\n",
       "  </tbody>\n",
       "</table>\n",
       "</div>"
      ],
      "text/plain": [
       "   error  power_bound  power_BN  CN_avg  CN_max  CN_min\n",
       "0   0.00     0.000000    0.0000  0.0000  0.0000  0.0000\n",
       "1   0.05     0.063957    0.0345  0.0050  0.0050  0.0050\n",
       "2   0.10     0.123212    0.1055  0.0915  0.0915  0.0915\n",
       "3   0.15     0.180369    0.1470  0.1510  0.1510  0.1510\n",
       "4   0.20     0.236025    0.2360  0.1815  0.1815  0.1815"
      ]
     },
     "execution_count": 18,
     "metadata": {},
     "output_type": "execute_result"
    }
   ],
   "source": [
    "results.head()"
   ]
  },
  {
   "cell_type": "code",
   "execution_count": 19,
   "id": "2627d91e",
   "metadata": {},
   "outputs": [
    {
     "name": "stdout",
     "output_type": "stream",
     "text": [
      "BN AUC: 0.44819999999999993\n",
      "CN Avg AUC: 0.42295833333333327\n"
     ]
    }
   ],
   "source": [
    "# Compute AUCs\n",
    "print(f\"BN AUC: {auc(results['error'], results['power_BN'])}\")\n",
    "print(f\"CN Avg AUC: {auc(results['error'], results['CN_avg'])}\")"
   ]
  }
 ],
 "metadata": {
  "kernelspec": {
   "display_name": "venv",
   "language": "python",
   "name": "python3"
  },
  "language_info": {
   "codemirror_mode": {
    "name": "ipython",
    "version": 3
   },
   "file_extension": ".py",
   "mimetype": "text/x-python",
   "name": "python",
   "nbconvert_exporter": "python",
   "pygments_lexer": "ipython3",
   "version": "3.11.2"
  }
 },
 "nbformat": 4,
 "nbformat_minor": 5
}
