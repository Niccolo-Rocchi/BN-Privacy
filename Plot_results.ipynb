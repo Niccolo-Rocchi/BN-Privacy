{
 "cells": [
  {
   "cell_type": "code",
   "execution_count": 8,
   "id": "b53ad4f3",
   "metadata": {},
   "outputs": [],
   "source": [
    "import pandas as pd\n",
    "import matplotlib.pyplot as plt\n",
    "from matplotlib.ticker import LogLocator\n",
    "import seaborn as sns\n",
    "import os\n",
    "import numpy as np"
   ]
  },
  {
   "cell_type": "code",
   "execution_count": 9,
   "id": "62a997f5",
   "metadata": {},
   "outputs": [
    {
     "name": "stdout",
     "output_type": "stream",
     "text": [
      "Accuracy BN: 0.38330\n",
      "Accuracy noisy BN: 0.38306\n",
      "Accuracy CN: 0.38184\n",
      "CN certainty: 0.99976/1\n"
     ]
    }
   ],
   "source": [
    "# Import results\n",
    "f_path = \"./results/\"\n",
    "files = [r for r in os.listdir(f_path)]\n",
    "r_concat = pd.concat([pd.read_csv(f_path + f) for f in files])\n",
    "\n",
    "# Debug\n",
    "assert(len(r_concat) == len(pd.read_csv(f_path + files[0])) * len(files))\n",
    "\n",
    "# Compute accuracy \n",
    "acc_bn = sum(r_concat[\"gt_mpes\"] & r_concat[\"bn_mpes\"]) / len(r_concat)\n",
    "acc_noisy_bn = sum(r_concat[\"gt_mpes\"] & r_concat[\"bn_noisy_mpes\"]) / len(r_concat)\n",
    "acc_cn = sum(r_concat[\"gt_mpes\"] & r_concat[\"cn_mpes\"]) / len(r_concat)\n",
    "\n",
    "print(f\"Accuracy BN: {acc_bn:.5f}\")\n",
    "print(f\"Accuracy noisy BN: {acc_noisy_bn:.5f}\")\n",
    "print(f\"Accuracy CN: {acc_cn:.5f}\")\n",
    "\n",
    "print(f\"CN certainty: {sum(r_concat['cn_probs'] > 0.5) / len(r_concat):.5f}/1\")"
   ]
  },
  {
   "cell_type": "code",
   "execution_count": 10,
   "id": "096505f8",
   "metadata": {},
   "outputs": [],
   "source": [
    "# Other curves\n",
    "# TODO"
   ]
  }
 ],
 "metadata": {
  "kernelspec": {
   "display_name": "venv",
   "language": "python",
   "name": "python3"
  },
  "language_info": {
   "codemirror_mode": {
    "name": "ipython",
    "version": 3
   },
   "file_extension": ".py",
   "mimetype": "text/x-python",
   "name": "python",
   "nbconvert_exporter": "python",
   "pygments_lexer": "ipython3",
   "version": "3.11.2"
  }
 },
 "nbformat": 4,
 "nbformat_minor": 5
}
