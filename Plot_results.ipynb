{
 "cells": [
  {
   "cell_type": "code",
   "execution_count": 17,
   "id": "b53ad4f3",
   "metadata": {},
   "outputs": [],
   "source": [
    "import pandas as pd\n",
    "import matplotlib.pyplot as plt\n",
    "import os\n",
    "from sklearn.metrics import auc\n",
    "import numpy as np"
   ]
  },
  {
   "cell_type": "code",
   "execution_count": 18,
   "id": "38577237",
   "metadata": {},
   "outputs": [],
   "source": [
    "# Define plot function: error vs power (semilogx)\n",
    "def plot_results(r: pd.DataFrame):\n",
    "    fig, ax = plt.subplots(1,1, figsize=(6, 3))\n",
    "    kwargs = {\"lw\":2, \"ms\":4, \"alpha\": 1}\n",
    "\n",
    "    # Theoretical bound\n",
    "    ax.semilogx(r[\"error\"], r[\"power_bound\"], \"r-^\", label = 'Theoretical', **kwargs)\n",
    "\n",
    "    # BN\n",
    "    ax.semilogx(r[\"error\"], r[\"power_BN\"], \"-o\", label = 'BN', **kwargs)\n",
    "\n",
    "    # CN (avg, min, max)\n",
    "    ax.semilogx(r[\"error\"], r[\"CN_avg\"], \"-s\", label = f'CN Avg', **kwargs)\n",
    "    ax.fill_between(r[\"error\"], r[\"CN_min\"], r[\"CN_max\"], color=\"b\", alpha=0.5)\n",
    "\n",
    "    # Plot info\n",
    "    ax.set(title='Semilogx')\n",
    "    ax.legend()"
   ]
  },
  {
   "cell_type": "code",
   "execution_count": 19,
   "id": "28499dc9",
   "metadata": {},
   "outputs": [
    {
     "data": {
      "image/png": "[encoded data removed]",
      "text/plain": [
       "<Figure size 600x300 with 1 Axes>"
      ]
     },
     "metadata": {},
     "output_type": "display_data"
    }
   ],
   "source": [
    "# Import all results\n",
    "path = \"./results/cont\"\n",
    "results = os.listdir(path)\n",
    "\n",
    "# Choose which one to plot\n",
    "r_path = f\"{path}/exp_2-compl22.csv\"\n",
    "results = pd.read_csv(r_path)\n",
    "\n",
    "# Plot results\n",
    "plot_results(results)"
   ]
  },
  {
   "cell_type": "code",
   "execution_count": 20,
   "id": "dac96210",
   "metadata": {},
   "outputs": [
    {
     "data": {
      "text/html": [
       "<div>\n",
       "<style scoped>\n",
       "    .dataframe tbody tr th:only-of-type {\n",
       "        vertical-align: middle;\n",
       "    }\n",
       "\n",
       "    .dataframe tbody tr th {\n",
       "        vertical-align: top;\n",
       "    }\n",
       "\n",
       "    .dataframe thead th {\n",
       "        text-align: right;\n",
       "    }\n",
       "</style>\n",
       "<table border=\"1\" class=\"dataframe\">\n",
       "  <thead>\n",
       "    <tr style=\"text-align: right;\">\n",
       "      <th></th>\n",
       "      <th>error</th>\n",
       "      <th>power_bound</th>\n",
       "      <th>power_BN</th>\n",
       "      <th>CN_avg</th>\n",
       "      <th>CN_max</th>\n",
       "      <th>CN_min</th>\n",
       "    </tr>\n",
       "  </thead>\n",
       "  <tbody>\n",
       "    <tr>\n",
       "      <th>0</th>\n",
       "      <td>0.00</td>\n",
       "      <td>0.000000</td>\n",
       "      <td>0.000000</td>\n",
       "      <td>0.000000</td>\n",
       "      <td>0.000000</td>\n",
       "      <td>0.000000</td>\n",
       "    </tr>\n",
       "    <tr>\n",
       "      <th>1</th>\n",
       "      <td>0.05</td>\n",
       "      <td>0.067258</td>\n",
       "      <td>0.065000</td>\n",
       "      <td>0.051533</td>\n",
       "      <td>0.052000</td>\n",
       "      <td>0.051000</td>\n",
       "    </tr>\n",
       "    <tr>\n",
       "      <th>2</th>\n",
       "      <td>0.10</td>\n",
       "      <td>0.128559</td>\n",
       "      <td>0.123333</td>\n",
       "      <td>0.088333</td>\n",
       "      <td>0.102333</td>\n",
       "      <td>0.080000</td>\n",
       "    </tr>\n",
       "    <tr>\n",
       "      <th>3</th>\n",
       "      <td>0.15</td>\n",
       "      <td>0.187241</td>\n",
       "      <td>0.187333</td>\n",
       "      <td>0.152200</td>\n",
       "      <td>0.160333</td>\n",
       "      <td>0.141000</td>\n",
       "    </tr>\n",
       "    <tr>\n",
       "      <th>4</th>\n",
       "      <td>0.20</td>\n",
       "      <td>0.244062</td>\n",
       "      <td>0.204000</td>\n",
       "      <td>0.206333</td>\n",
       "      <td>0.209667</td>\n",
       "      <td>0.202667</td>\n",
       "    </tr>\n",
       "  </tbody>\n",
       "</table>\n",
       "</div>"
      ],
      "text/plain": [
       "   error  power_bound  power_BN    CN_avg    CN_max    CN_min\n",
       "0   0.00     0.000000  0.000000  0.000000  0.000000  0.000000\n",
       "1   0.05     0.067258  0.065000  0.051533  0.052000  0.051000\n",
       "2   0.10     0.128559  0.123333  0.088333  0.102333  0.080000\n",
       "3   0.15     0.187241  0.187333  0.152200  0.160333  0.141000\n",
       "4   0.20     0.244062  0.204000  0.206333  0.209667  0.202667"
      ]
     },
     "execution_count": 20,
     "metadata": {},
     "output_type": "execute_result"
    }
   ],
   "source": [
    "results.head()"
   ]
  },
  {
   "cell_type": "code",
   "execution_count": 21,
   "id": "2627d91e",
   "metadata": {},
   "outputs": [
    {
     "name": "stdout",
     "output_type": "stream",
     "text": [
      "BN AUC: 0.4816333333333333\n",
      "CN Avg AUC: 0.45047499999999985\n"
     ]
    }
   ],
   "source": [
    "# Compute AUCs\n",
    "print(f\"BN AUC: {auc(results['error'], results['power_BN'])}\")\n",
    "print(f\"CN Avg AUC: {auc(results['error'], results['CN_avg'])}\")"
   ]
  }
 ],
 "metadata": {
  "kernelspec": {
   "display_name": "venv",
   "language": "python",
   "name": "python3"
  },
  "language_info": {
   "codemirror_mode": {
    "name": "ipython",
    "version": 3
   },
   "file_extension": ".py",
   "mimetype": "text/x-python",
   "name": "python",
   "nbconvert_exporter": "python",
   "pygments_lexer": "ipython3",
   "version": "3.11.2"
  }
 },
 "nbformat": 4,
 "nbformat_minor": 5
}
